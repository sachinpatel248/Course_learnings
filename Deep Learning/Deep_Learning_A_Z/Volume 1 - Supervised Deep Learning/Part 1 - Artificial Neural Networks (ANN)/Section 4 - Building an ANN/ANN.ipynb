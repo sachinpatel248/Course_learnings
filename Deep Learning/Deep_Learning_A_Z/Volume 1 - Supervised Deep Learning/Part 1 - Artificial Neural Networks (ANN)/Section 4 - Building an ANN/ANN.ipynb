{
 "cells": [
  {
   "cell_type": "code",
   "execution_count": 1,
   "metadata": {},
   "outputs": [],
   "source": [
    "# Classification template\n",
    "\n",
    "# Importing the libraries\n",
    "import numpy as np\n",
    "import matplotlib.pyplot as plt\n",
    "import pandas as pd\n",
    "import os\n"
   ]
  },
  {
   "cell_type": "code",
   "execution_count": 2,
   "metadata": {},
   "outputs": [
    {
     "name": "stdout",
     "output_type": "stream",
     "text": [
      "C:\\Users\\Sachin13390\\Desktop\\Udemy_Course_1\\Deep Learning\\Artificial_Neural_Networks\\Churn_Modelling.csv\n"
     ]
    }
   ],
   "source": [
    "CSV_File_Path = r'C:\\Users\\Sachin\\Desktop\\Udemy_Course_1\\Deep Learning\\Artificial_Neural_Networks\\Churn_Modelling.csv'\n",
    "\n",
    "if not os.path.exists(CSV_File_Path):\n",
    "    CSV_File_Path = r'C:\\Users\\Sachin13390\\Desktop\\Udemy_Course_1\\Deep Learning\\Artificial_Neural_Networks\\Churn_Modelling.csv'\n",
    "  \n",
    "if os.path.exists(CSV_File_Path):\n",
    "    print (CSV_File_Path)\n",
    "     "
   ]
  },
  {
   "cell_type": "code",
   "execution_count": 3,
   "metadata": {},
   "outputs": [],
   "source": [
    "# Importing the dataset\n",
    "dataset = pd.read_csv(CSV_File_Path)\n",
    "# print (dataset)\n",
    "X = dataset.iloc[:, 3:13].values\n",
    "y = dataset.iloc[:, 13].values\n",
    "\n",
    "# print (X)"
   ]
  },
  {
   "cell_type": "code",
   "execution_count": 4,
   "metadata": {},
   "outputs": [],
   "source": [
    "# Encoding categorical data\n",
    "# Encoding the Independent Variable\n",
    "from sklearn.preprocessing import LabelEncoder, OneHotEncoder\n",
    "\n",
    "labelencoder_X_1 = LabelEncoder()\n",
    "X[:, 1] = labelencoder_X_1.fit_transform(X[:, 1])\n",
    "# print (X)\n"
   ]
  },
  {
   "cell_type": "code",
   "execution_count": 5,
   "metadata": {},
   "outputs": [
    {
     "name": "stdout",
     "output_type": "stream",
     "text": [
      "[[619 0 0 ... 1 1 101348.88]\n",
      " [608 2 0 ... 0 1 112542.58]\n",
      " [502 0 0 ... 1 0 113931.57]\n",
      " ...\n",
      " [709 0 0 ... 0 1 42085.58]\n",
      " [772 1 1 ... 1 0 92888.52]\n",
      " [792 0 0 ... 1 0 38190.78]]\n"
     ]
    }
   ],
   "source": [
    "\n",
    "labelencoder_X_2 = LabelEncoder()\n",
    "X[:, 2] = labelencoder_X_2.fit_transform(X[:, 2])\n",
    "print (X)"
   ]
  },
  {
   "cell_type": "code",
   "execution_count": 6,
   "metadata": {},
   "outputs": [],
   "source": [
    "onehotencoder = OneHotEncoder(categorical_features = [1])\n",
    "X = onehotencoder.fit_transform(X).toarray()"
   ]
  },
  {
   "cell_type": "code",
   "execution_count": 7,
   "metadata": {},
   "outputs": [],
   "source": [
    "X = X[:, 1:]"
   ]
  },
  {
   "cell_type": "code",
   "execution_count": 8,
   "metadata": {},
   "outputs": [],
   "source": [
    "# # Encoding the Dependent Variable\n",
    "# labelencoder_y = LabelEncoder()\n",
    "# y = labelencoder_y.fit_transform(y)"
   ]
  },
  {
   "cell_type": "code",
   "execution_count": 9,
   "metadata": {},
   "outputs": [],
   "source": [
    "# Splitting the dataset into the Training set and Test set\n",
    "from sklearn.model_selection  import train_test_split\n",
    "X_train, X_test, y_train, y_test = train_test_split(X, y, test_size = 0.20, random_state = 0)"
   ]
  },
  {
   "cell_type": "code",
   "execution_count": 10,
   "metadata": {},
   "outputs": [],
   "source": [
    "# Feature Scaling\n",
    "from sklearn.preprocessing import StandardScaler\n",
    "sc = StandardScaler()\n",
    "X_train = sc.fit_transform(X_train)\n",
    "X_test = sc.transform(X_test)\n"
   ]
  },
  {
   "cell_type": "code",
   "execution_count": 11,
   "metadata": {},
   "outputs": [
    {
     "data": {
      "text/plain": [
       "(8000, 11)"
      ]
     },
     "execution_count": 11,
     "metadata": {},
     "output_type": "execute_result"
    }
   ],
   "source": [
    "X_train.shape"
   ]
  },
  {
   "cell_type": "code",
   "execution_count": 12,
   "metadata": {},
   "outputs": [],
   "source": [
    "#######   PART 2 Building ANN"
   ]
  },
  {
   "cell_type": "code",
   "execution_count": 13,
   "metadata": {},
   "outputs": [
    {
     "name": "stderr",
     "output_type": "stream",
     "text": [
      "d:\\product\\python36\\lib\\site-packages\\h5py\\__init__.py:36: FutureWarning: Conversion of the second argument of issubdtype from `float` to `np.floating` is deprecated. In future, it will be treated as `np.float64 == np.dtype(float).type`.\n",
      "  from ._conv import register_converters as _register_converters\n",
      "Using TensorFlow backend.\n"
     ]
    }
   ],
   "source": [
    "import keras\n",
    "from keras.models import Sequential\n",
    "from keras.layers import Dense\n",
    "from keras.layers import Dropout"
   ]
  },
  {
   "cell_type": "code",
   "execution_count": 14,
   "metadata": {},
   "outputs": [],
   "source": [
    "# Initialze ANN\n",
    "classifier = Sequential()"
   ]
  },
  {
   "cell_type": "code",
   "execution_count": 15,
   "metadata": {},
   "outputs": [
    {
     "name": "stderr",
     "output_type": "stream",
     "text": [
      "d:\\product\\python36\\lib\\site-packages\\ipykernel_launcher.py:3: UserWarning: Update your `Dropout` call to the Keras 2 API: `Dropout(rate=0.1)`\n",
      "  This is separate from the ipykernel package so we can avoid doing imports until\n",
      "d:\\product\\python36\\lib\\site-packages\\ipykernel_launcher.py:6: UserWarning: Update your `Dropout` call to the Keras 2 API: `Dropout(rate=0.1)`\n",
      "  \n"
     ]
    }
   ],
   "source": [
    "# Adding input layer and first hidden layer\n",
    "classifier.add(Dense(units = 6, kernel_initializer = 'uniform', activation = 'relu', input_dim = 11 ))\n",
    "classifier.add(Dropout(p = 0.10))\n",
    "\n",
    "classifier.add(Dense(units = 6, kernel_initializer = 'uniform', activation = 'relu' ))\n",
    "classifier.add(Dropout(p = 0.10))\n",
    "\n",
    "classifier.add(Dense(units = 1, kernel_initializer = 'uniform', activation = 'sigmoid' ))"
   ]
  },
  {
   "cell_type": "code",
   "execution_count": 16,
   "metadata": {},
   "outputs": [],
   "source": [
    "classifier.compile(optimizer = 'adam', loss = 'binary_crossentropy', metrics = ['accuracy'])"
   ]
  },
  {
   "cell_type": "code",
   "execution_count": null,
   "metadata": {},
   "outputs": [],
   "source": []
  },
  {
   "cell_type": "code",
   "execution_count": 17,
   "metadata": {},
   "outputs": [
    {
     "name": "stdout",
     "output_type": "stream",
     "text": [
      "Epoch 1/50\n",
      "8000/8000 [==============================] - 3s 327us/step - loss: 0.4891 - acc: 0.7959\n",
      "Epoch 2/50\n",
      "8000/8000 [==============================] - 1s 114us/step - loss: 0.4293 - acc: 0.7960\n",
      "Epoch 3/50\n",
      "8000/8000 [==============================] - 1s 115us/step - loss: 0.4240 - acc: 0.7960\n",
      "Epoch 4/50\n",
      "8000/8000 [==============================] - 1s 114us/step - loss: 0.4209 - acc: 0.7960\n",
      "Epoch 5/50\n",
      "8000/8000 [==============================] - 1s 115us/step - loss: 0.4127 - acc: 0.8167\n",
      "Epoch 6/50\n",
      "8000/8000 [==============================] - 1s 115us/step - loss: 0.4099 - acc: 0.8259\n",
      "Epoch 7/50\n",
      "8000/8000 [==============================] - 1s 147us/step - loss: 0.4083 - acc: 0.8210\n",
      "Epoch 8/50\n",
      "8000/8000 [==============================] - 1s 128us/step - loss: 0.4077 - acc: 0.8211\n",
      "Epoch 9/50\n",
      "8000/8000 [==============================] - 1s 117us/step - loss: 0.4041 - acc: 0.8225\n",
      "Epoch 10/50\n",
      "8000/8000 [==============================] - 1s 118us/step - loss: 0.4085 - acc: 0.8166\n",
      "Epoch 11/50\n",
      "8000/8000 [==============================] - 1s 129us/step - loss: 0.4081 - acc: 0.8211\n",
      "Epoch 12/50\n",
      "8000/8000 [==============================] - 1s 140us/step - loss: 0.4089 - acc: 0.8200\n",
      "Epoch 13/50\n",
      "8000/8000 [==============================] - 1s 152us/step - loss: 0.4026 - acc: 0.8246\n",
      "Epoch 14/50\n",
      "8000/8000 [==============================] - 1s 135us/step - loss: 0.4089 - acc: 0.8211\n",
      "Epoch 15/50\n",
      "8000/8000 [==============================] - 1s 137us/step - loss: 0.4025 - acc: 0.8194\n",
      "Epoch 16/50\n",
      "8000/8000 [==============================] - 1s 130us/step - loss: 0.4041 - acc: 0.8245\n",
      "Epoch 17/50\n",
      "8000/8000 [==============================] - 1s 126us/step - loss: 0.4083 - acc: 0.8260\n",
      "Epoch 18/50\n",
      "8000/8000 [==============================] - 1s 129us/step - loss: 0.4023 - acc: 0.8251\n",
      "Epoch 19/50\n",
      "8000/8000 [==============================] - 1s 124us/step - loss: 0.4022 - acc: 0.8299\n",
      "Epoch 20/50\n",
      "8000/8000 [==============================] - 1s 127us/step - loss: 0.4057 - acc: 0.8275\n",
      "Epoch 21/50\n",
      "8000/8000 [==============================] - 1s 127us/step - loss: 0.4015 - acc: 0.8337\n",
      "Epoch 22/50\n",
      "8000/8000 [==============================] - 1s 118us/step - loss: 0.4022 - acc: 0.8324\n",
      "Epoch 23/50\n",
      "8000/8000 [==============================] - 1s 118us/step - loss: 0.4035 - acc: 0.8340\n",
      "Epoch 24/50\n",
      "8000/8000 [==============================] - 1s 116us/step - loss: 0.3967 - acc: 0.8335\n",
      "Epoch 25/50\n",
      "8000/8000 [==============================] - 1s 117us/step - loss: 0.4051 - acc: 0.8334\n",
      "Epoch 26/50\n",
      "8000/8000 [==============================] - 1s 121us/step - loss: 0.4043 - acc: 0.8335\n",
      "Epoch 27/50\n",
      "8000/8000 [==============================] - 1s 121us/step - loss: 0.3984 - acc: 0.8360\n",
      "Epoch 28/50\n",
      "8000/8000 [==============================] - 1s 147us/step - loss: 0.3997 - acc: 0.8350\n",
      "Epoch 29/50\n",
      "8000/8000 [==============================] - 2s 209us/step - loss: 0.4015 - acc: 0.8307\n",
      "Epoch 30/50\n",
      "8000/8000 [==============================] - 1s 129us/step - loss: 0.3968 - acc: 0.8357\n",
      "Epoch 31/50\n",
      "8000/8000 [==============================] - 1s 125us/step - loss: 0.3969 - acc: 0.8372\n",
      "Epoch 32/50\n",
      "8000/8000 [==============================] - 1s 128us/step - loss: 0.4015 - acc: 0.8352\n",
      "Epoch 33/50\n",
      "8000/8000 [==============================] - 1s 137us/step - loss: 0.4036 - acc: 0.8332\n",
      "Epoch 34/50\n",
      "8000/8000 [==============================] - 1s 156us/step - loss: 0.4037 - acc: 0.8314\n",
      "Epoch 35/50\n",
      "8000/8000 [==============================] - 1s 143us/step - loss: 0.3978 - acc: 0.8327\n",
      "Epoch 36/50\n",
      "8000/8000 [==============================] - 1s 158us/step - loss: 0.4002 - acc: 0.8351\n",
      "Epoch 37/50\n",
      "8000/8000 [==============================] - 1s 167us/step - loss: 0.4023 - acc: 0.8320\n",
      "Epoch 38/50\n",
      "8000/8000 [==============================] - 1s 142us/step - loss: 0.3940 - acc: 0.8370\n",
      "Epoch 39/50\n",
      "8000/8000 [==============================] - 1s 140us/step - loss: 0.3976 - acc: 0.8336\n",
      "Epoch 40/50\n",
      "8000/8000 [==============================] - 1s 162us/step - loss: 0.4009 - acc: 0.8354\n",
      "Epoch 41/50\n",
      "8000/8000 [==============================] - 1s 165us/step - loss: 0.4041 - acc: 0.8341\n",
      "Epoch 42/50\n",
      "8000/8000 [==============================] - 1s 161us/step - loss: 0.3999 - acc: 0.8357\n",
      "Epoch 43/50\n",
      "8000/8000 [==============================] - 1s 150us/step - loss: 0.4001 - acc: 0.8370\n",
      "Epoch 44/50\n",
      "8000/8000 [==============================] - 1s 136us/step - loss: 0.3974 - acc: 0.8377\n",
      "Epoch 45/50\n",
      "8000/8000 [==============================] - 1s 136us/step - loss: 0.3986 - acc: 0.8377\n",
      "Epoch 46/50\n",
      "8000/8000 [==============================] - 1s 136us/step - loss: 0.4015 - acc: 0.8366\n",
      "Epoch 47/50\n",
      "8000/8000 [==============================] - 1s 163us/step - loss: 0.4033 - acc: 0.8310\n",
      "Epoch 48/50\n",
      "8000/8000 [==============================] - 1s 173us/step - loss: 0.4032 - acc: 0.8367\n",
      "Epoch 49/50\n",
      "8000/8000 [==============================] - 1s 167us/step - loss: 0.4047 - acc: 0.8342\n",
      "Epoch 50/50\n",
      "8000/8000 [==============================] - 1s 138us/step - loss: 0.4010 - acc: 0.8347\n"
     ]
    },
    {
     "data": {
      "text/plain": [
       "<keras.callbacks.History at 0x18201547240>"
      ]
     },
     "execution_count": 17,
     "metadata": {},
     "output_type": "execute_result"
    }
   ],
   "source": [
    "classifier.fit(X_train, y_train, batch_size = 10, epochs = 50)"
   ]
  },
  {
   "cell_type": "code",
   "execution_count": null,
   "metadata": {},
   "outputs": [],
   "source": [
    "# Predicting the Test set results\n",
    "y_pred = classifier.predict(X_test)\n",
    "y_pred = (y_pred > 0.5)\n"
   ]
  },
  {
   "cell_type": "code",
   "execution_count": null,
   "metadata": {},
   "outputs": [],
   "source": [
    "\n",
    "# Fitting classifier to the Training set\n",
    "# Create your classifier here\n",
    "\n",
    "\n",
    "# Making the Confusion Matrix\n",
    "from sklearn.metrics import confusion_matrix\n",
    "cm = confusion_matrix(y_test, y_pred)"
   ]
  },
  {
   "cell_type": "code",
   "execution_count": null,
   "metadata": {},
   "outputs": [],
   "source": [
    "cm"
   ]
  },
  {
   "cell_type": "code",
   "execution_count": null,
   "metadata": {},
   "outputs": [],
   "source": [
    "from keras.wrappers.scikit_learn import KerasClassifier\n",
    "from sklearn.model_selection import cross_val_score"
   ]
  },
  {
   "cell_type": "code",
   "execution_count": null,
   "metadata": {},
   "outputs": [],
   "source": [
    "def Build_Classifier():\n",
    "    \n",
    "    classifier = Sequential()\n",
    "    \n",
    "    classifier.add(Dense(units = 6, kernel_initializer = 'uniform', activation = 'relu', input_dim = 11 ))\n",
    "    classifier.add(Dense(units = 6, kernel_initializer = 'uniform', activation = 'relu' ))\n",
    "    classifier.add(Dense(units = 1, kernel_initializer = 'uniform', activation = 'sigmoid' ))\n",
    "    \n",
    "    classifier.compile(optimizer = 'adam', loss = 'binary_crossentropy', metrics = ['accuracy'])\n",
    "    \n",
    "    return classfier\n",
    "    "
   ]
  },
  {
   "cell_type": "code",
   "execution_count": null,
   "metadata": {},
   "outputs": [],
   "source": [
    "classifier = KerasClassifier(build_fn = Build_Classifier, batch_size = 10, nb_epoch = 100 )\n",
    "accuracies = cross_val_score (estimator = classifier, X = X_train, y = y_train, cv = 10, n_jobs = -1 )"
   ]
  },
  {
   "cell_type": "code",
   "execution_count": null,
   "metadata": {},
   "outputs": [],
   "source": [
    "print (accuracies)"
   ]
  },
  {
   "cell_type": "code",
   "execution_count": null,
   "metadata": {},
   "outputs": [],
   "source": []
  },
  {
   "cell_type": "code",
   "execution_count": null,
   "metadata": {},
   "outputs": [],
   "source": [
    "########################  Tunning  ANN"
   ]
  },
  {
   "cell_type": "code",
   "execution_count": null,
   "metadata": {},
   "outputs": [],
   "source": [
    "from keras.wrappers.scikit_learn import KerasClassifier\n",
    "from sklearn.model_selection import GridSearchCV\n",
    "from keras.models import Sequential\n",
    "from keras.layers import Dense\n",
    "from keras.layers import Dropout"
   ]
  },
  {
   "cell_type": "code",
   "execution_count": null,
   "metadata": {},
   "outputs": [],
   "source": [
    "def Build_Classifier(optimizer):\n",
    "    \n",
    "    classifier = Sequential()\n",
    "    \n",
    "    classifier.add(Dense(units = 6, kernel_initializer = 'uniform', activation = 'relu', input_dim = 11 ))\n",
    "    classifier.add(Dense(units = 6, kernel_initializer = 'uniform', activation = 'relu' ))\n",
    "    classifier.add(Dense(units = 1, kernel_initializer = 'uniform', activation = 'sigmoid' ))\n",
    "    \n",
    "    classifier.compile(optimizer = optimizer, loss = 'binary_crossentropy', metrics = ['accuracy'])\n",
    "    \n",
    "    return classifier"
   ]
  },
  {
   "cell_type": "code",
   "execution_count": null,
   "metadata": {},
   "outputs": [],
   "source": [
    "classifier = KerasClassifier(build_fn = Build_Classifier )"
   ]
  },
  {
   "cell_type": "code",
   "execution_count": null,
   "metadata": {},
   "outputs": [],
   "source": [
    "parameters = { \n",
    "                'batch_size' : [25, 32],\n",
    "                'epochs' : [100, 500],\n",
    "                'optimizer' : ['adam', 'rmsprop']\n",
    "             }"
   ]
  },
  {
   "cell_type": "code",
   "execution_count": null,
   "metadata": {},
   "outputs": [],
   "source": [
    "grid_search = GridSearchCV(estimator = classifier, \n",
    "                          param_grid = parameters,\n",
    "                          scoring = 'accuracy',\n",
    "                          cv = 1)\n"
   ]
  },
  {
   "cell_type": "code",
   "execution_count": null,
   "metadata": {},
   "outputs": [],
   "source": [
    "grid_search = grid_search.fit(X_train,y_train)"
   ]
  },
  {
   "cell_type": "code",
   "execution_count": null,
   "metadata": {},
   "outputs": [],
   "source": [
    "best_parameters = grid_search.best_params_\n",
    "\n",
    "print (\"Best Parameters \" + str(best_parameters))\n",
    "\n",
    "\n",
    "best_accuracy = grid_search.best_score_\n",
    "\n",
    "print (\"best_accuracy \" + str(best_accuracy))"
   ]
  },
  {
   "cell_type": "code",
   "execution_count": null,
   "metadata": {},
   "outputs": [],
   "source": []
  },
  {
   "cell_type": "code",
   "execution_count": null,
   "metadata": {},
   "outputs": [],
   "source": []
  },
  {
   "cell_type": "code",
   "execution_count": null,
   "metadata": {},
   "outputs": [],
   "source": []
  },
  {
   "cell_type": "code",
   "execution_count": null,
   "metadata": {},
   "outputs": [],
   "source": []
  },
  {
   "cell_type": "code",
   "execution_count": null,
   "metadata": {},
   "outputs": [],
   "source": []
  },
  {
   "cell_type": "code",
   "execution_count": null,
   "metadata": {},
   "outputs": [],
   "source": []
  },
  {
   "cell_type": "code",
   "execution_count": null,
   "metadata": {},
   "outputs": [],
   "source": []
  },
  {
   "cell_type": "code",
   "execution_count": null,
   "metadata": {},
   "outputs": [],
   "source": []
  }
 ],
 "metadata": {
  "kernelspec": {
   "display_name": "Python 3",
   "language": "python",
   "name": "python3"
  },
  "language_info": {
   "codemirror_mode": {
    "name": "ipython",
    "version": 3
   },
   "file_extension": ".py",
   "mimetype": "text/x-python",
   "name": "python",
   "nbconvert_exporter": "python",
   "pygments_lexer": "ipython3",
   "version": "3.6.6"
  }
 },
 "nbformat": 4,
 "nbformat_minor": 2
}
