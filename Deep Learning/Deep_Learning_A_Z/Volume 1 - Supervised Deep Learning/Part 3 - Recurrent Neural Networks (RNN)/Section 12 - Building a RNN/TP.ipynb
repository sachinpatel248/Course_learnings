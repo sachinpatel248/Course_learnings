{
 "cells": [
  {
   "cell_type": "markdown",
   "metadata": {},
   "source": [
    "# Part-1 Data Pre-Processing"
   ]
  },
  {
   "cell_type": "code",
   "execution_count": 24,
   "metadata": {},
   "outputs": [],
   "source": [
    "import numpy as np\n",
    "import pandas as pd\n",
    "import matplotlib.pyplot as plt\n",
    "# \n",
    "# from sklearn.preprocessing import MinMaxScaler\n",
    "\n",
    "from keras.models import load_model"
   ]
  },
  {
   "cell_type": "code",
   "execution_count": 25,
   "metadata": {},
   "outputs": [],
   "source": [
    "model_File_Path = 'Infosys_RNN_Model.h5'"
   ]
  },
  {
   "cell_type": "markdown",
   "metadata": {},
   "source": [
    "# Import Dataset"
   ]
  },
  {
   "cell_type": "code",
   "execution_count": 26,
   "metadata": {},
   "outputs": [],
   "source": [
    "train_Dataset_File_Path = r'E.csv'\n",
    "dataset_train = pd.read_csv(train_Dataset_File_Path)\n",
    "\n",
    "training_set = dataset_train.iloc[:,1:2].values"
   ]
  },
  {
   "cell_type": "markdown",
   "metadata": {},
   "source": [
    "# Feature Scaling\n",
    "Normalisation"
   ]
  },
  {
   "cell_type": "code",
   "execution_count": 27,
   "metadata": {},
   "outputs": [
    {
     "name": "stdout",
     "output_type": "stream",
     "text": [
      "615\n"
     ]
    }
   ],
   "source": [
    "# sc = MinMaxScaler(feature_range = (0,1))\n",
    "\n",
    "training_set_Scaled = training_set\n",
    "\n",
    "print (len(training_set_Scaled))"
   ]
  },
  {
   "cell_type": "markdown",
   "metadata": {},
   "source": [
    "# Creating a data structure with 60 timesteps and 1 output"
   ]
  },
  {
   "cell_type": "code",
   "execution_count": 28,
   "metadata": {},
   "outputs": [],
   "source": [
    "time_Step = 60\n",
    "\n",
    "X_train = []\n",
    "y_train = []\n",
    "\n",
    "for i in range (time_Step, len(training_set_Scaled)):\n",
    "    X_train.append(training_set_Scaled[i-time_Step: i, 0])\n",
    "    y_train.append(training_set_Scaled[i,0])\n",
    "\n",
    "\n",
    "X_train = np.array(X_train)\n",
    "y_train = np.array(y_train)\n",
    "    \n",
    "# print (X_train)\n",
    "# print (y_train)"
   ]
  },
  {
   "cell_type": "markdown",
   "metadata": {},
   "source": [
    "# Reshaping\n"
   ]
  },
  {
   "cell_type": "code",
   "execution_count": 40,
   "metadata": {},
   "outputs": [
    {
     "name": "stdout",
     "output_type": "stream",
     "text": [
      "(555, 60, 1)\n"
     ]
    }
   ],
   "source": [
    "X_train = np.reshape(X_train, (X_train.shape[0], X_train.shape[1], 1))\n",
    "print(X_train.shape)"
   ]
  },
  {
   "cell_type": "markdown",
   "metadata": {},
   "source": [
    "# Part-2 Building RNN"
   ]
  },
  {
   "cell_type": "code",
   "execution_count": 41,
   "metadata": {},
   "outputs": [],
   "source": [
    "from keras.models import Sequential\n",
    "from keras.layers import Dense\n",
    "from keras.layers import LSTM\n",
    "from keras.layers import Dropout\n",
    "import lstm, time"
   ]
  },
  {
   "cell_type": "code",
   "execution_count": 42,
   "metadata": {},
   "outputs": [],
   "source": [
    "regressor = Sequential()"
   ]
  },
  {
   "cell_type": "code",
   "execution_count": 43,
   "metadata": {},
   "outputs": [],
   "source": [
    "regressor.add(LSTM(units = 50, return_sequences = True, input_shape = (X_train.shape[1], 1) ))\n",
    "regressor.add(Dropout(0.2))\n",
    "\n",
    "regressor.add(LSTM(units = 50, return_sequences = True, ))\n",
    "regressor.add(Dropout(0.2))\n",
    "\n",
    "regressor.add(LSTM(units = 50, return_sequences = True, ))\n",
    "regressor.add(Dropout(0.2))\n",
    "\n",
    "regressor.add(LSTM(units = 50 ))\n",
    "regressor.add(Dropout(0.2))\n",
    "\n",
    "regressor.add(Dense(units = 1))"
   ]
  },
  {
   "cell_type": "code",
   "execution_count": 44,
   "metadata": {},
   "outputs": [],
   "source": [
    "regressor.compile(optimizer = 'adam', loss = 'mean_squared_error')"
   ]
  },
  {
   "cell_type": "markdown",
   "metadata": {},
   "source": [
    "# Training "
   ]
  },
  {
   "cell_type": "code",
   "execution_count": 45,
   "metadata": {},
   "outputs": [
    {
     "name": "stdout",
     "output_type": "stream",
     "text": [
      "Epoch 1/10\n",
      "555/555 [==============================] - 4s 7ms/step - loss: 138438.2635\n",
      "Epoch 2/10\n",
      "555/555 [==============================] - 2s 3ms/step - loss: 135071.2277\n",
      "Epoch 3/10\n",
      "555/555 [==============================] - 2s 3ms/step - loss: 133084.1306\n",
      "Epoch 4/10\n",
      "555/555 [==============================] - 2s 3ms/step - loss: 132212.2817\n",
      "Epoch 5/10\n",
      "555/555 [==============================] - 2s 3ms/step - loss: 131504.8035\n",
      "Epoch 6/10\n",
      "555/555 [==============================] - 2s 3ms/step - loss: 130765.1540\n",
      "Epoch 7/10\n",
      "555/555 [==============================] - 2s 3ms/step - loss: 130074.7458\n",
      "Epoch 8/10\n",
      "555/555 [==============================] - 2s 3ms/step - loss: 129434.7364\n",
      "Epoch 9/10\n",
      "555/555 [==============================] - 2s 3ms/step - loss: 128785.0892\n",
      "Epoch 10/10\n",
      "555/555 [==============================] - 2s 3ms/step - loss: 128182.0214\n"
     ]
    },
    {
     "data": {
      "text/plain": [
       "<keras.callbacks.History at 0x1984e1489e8>"
      ]
     },
     "execution_count": 45,
     "metadata": {},
     "output_type": "execute_result"
    }
   ],
   "source": [
    "regressor.fit(X_train, y_train, epochs = 10, batch_size = 32)"
   ]
  },
  {
   "cell_type": "code",
   "execution_count": 46,
   "metadata": {},
   "outputs": [],
   "source": [
    "# regressor.save(model_File_Path)"
   ]
  },
  {
   "cell_type": "code",
   "execution_count": 47,
   "metadata": {},
   "outputs": [],
   "source": [
    "# regressor = load_model(model_File_Path)"
   ]
  },
  {
   "cell_type": "markdown",
   "metadata": {},
   "source": [
    "# Making Predicitions"
   ]
  },
  {
   "cell_type": "code",
   "execution_count": 48,
   "metadata": {},
   "outputs": [],
   "source": [
    "dataset_total = (dataset_train['Open Price'])\n",
    "# print (type(dataset_total))\n",
    "inputs = dataset_total[len(dataset_total) - time_Step : ].values\n",
    "# print ((inputs.shape))\n",
    "# inputs = inputs.reshape(-1,1)\n",
    "# print ((inputs.shape))\n",
    "# inputs = sc.transform(inputs)\n",
    "# print ((inputs))\n"
   ]
  },
  {
   "cell_type": "code",
   "execution_count": 50,
   "metadata": {},
   "outputs": [
    {
     "ename": "IndexError",
     "evalue": "too many indices for array",
     "output_type": "error",
     "traceback": [
      "\u001b[1;31m---------------------------------------------------------------------------\u001b[0m",
      "\u001b[1;31mIndexError\u001b[0m                                Traceback (most recent call last)",
      "\u001b[1;32m<ipython-input-50-b74b45f786ce>\u001b[0m in \u001b[0;36m<module>\u001b[1;34m()\u001b[0m\n\u001b[0;32m      3\u001b[0m \u001b[1;32mfor\u001b[0m \u001b[0mi\u001b[0m \u001b[1;32min\u001b[0m \u001b[0mrange\u001b[0m \u001b[1;33m(\u001b[0m\u001b[0mtime_Step\u001b[0m\u001b[1;33m,\u001b[0m \u001b[1;36m110\u001b[0m\u001b[1;33m)\u001b[0m\u001b[1;33m:\u001b[0m\u001b[1;33m\u001b[0m\u001b[0m\n\u001b[0;32m      4\u001b[0m \u001b[1;31m#     print (type(inputs[i-time_Step: i, 0]))\u001b[0m\u001b[1;33m\u001b[0m\u001b[1;33m\u001b[0m\u001b[0m\n\u001b[1;32m----> 5\u001b[1;33m     \u001b[0mX_test\u001b[0m\u001b[1;33m.\u001b[0m\u001b[0mappend\u001b[0m\u001b[1;33m(\u001b[0m\u001b[0minputs\u001b[0m\u001b[1;33m[\u001b[0m\u001b[0mi\u001b[0m\u001b[1;33m-\u001b[0m\u001b[0mtime_Step\u001b[0m\u001b[1;33m:\u001b[0m \u001b[0mi\u001b[0m\u001b[1;33m,\u001b[0m \u001b[1;36m0\u001b[0m\u001b[1;33m]\u001b[0m\u001b[1;33m)\u001b[0m\u001b[1;33m\u001b[0m\u001b[0m\n\u001b[0m\u001b[0;32m      6\u001b[0m \u001b[1;33m\u001b[0m\u001b[0m\n\u001b[0;32m      7\u001b[0m \u001b[0mprint\u001b[0m\u001b[1;33m(\u001b[0m\u001b[0mtype\u001b[0m\u001b[1;33m(\u001b[0m\u001b[0mX_test\u001b[0m\u001b[1;33m)\u001b[0m\u001b[1;33m)\u001b[0m\u001b[1;33m\u001b[0m\u001b[0m\n",
      "\u001b[1;31mIndexError\u001b[0m: too many indices for array"
     ]
    }
   ],
   "source": [
    "X_test = []\n",
    "\n",
    "for i in range (time_Step, 110):\n",
    "#     print (type(inputs[i-time_Step: i, 0]))\n",
    "    X_test.append(inputs[i-time_Step: i, 0])\n",
    "\n",
    "print(type(X_test))\n",
    "\n",
    "X_test = np.array(X_test)\n",
    "print((X_test.shape))\n",
    "X_test = np.reshape(X_test, (X_test.shape[0], X_test.shape[1], 1) )\n",
    "\n",
    "print((X_test.shape))\n"
   ]
  },
  {
   "cell_type": "code",
   "execution_count": null,
   "metadata": {
    "scrolled": true
   },
   "outputs": [],
   "source": [
    "# Predicting Stock price for next 100 days\n",
    "\n",
    "future_Time_Steps = 100\n",
    "data_last_60_days=[]\n",
    "data_append_next_Prediction = 0\n",
    "\n",
    "for i in range(len(dataset_test) - time_Step , len(dataset_test)):\n",
    "    data_last_60_days.append((dataset_test.iloc[i,1]))\n",
    "     \n",
    "\n",
    "data_append_next_Prediction = data_last_60_days\n",
    "data_last_60_days = np.array(data_last_60_days)\n",
    "data_last_60_days = np.reshape(data_last_60_days, (time_Step, 1))\n",
    "\n",
    "# data_last_60_days = sc.transform(data_last_60_days)\n",
    "\n",
    "print ((data_last_60_days))\n",
    "\n",
    "\n",
    "temp = []\n",
    "temp.append(data_last_60_days[0:time_Step,0])\n",
    "\n",
    "data_last_60_days = np.array(temp)\n",
    "# print((data_last_60_days.shape))\n",
    "\n",
    "data_last_60_days = np.reshape(data_last_60_days, (1, time_Step, 1) )\n",
    "# print((data_last_60_days.shape))\n",
    "\n",
    "\n",
    "\n",
    "predicted_Stock_Price = regressor.predict(data_last_60_days)\n",
    "# predicted_Stock_Price = sc.inverse_transform(predicted_Stock_Price)\n",
    "\n",
    "# print(sc.inverse_transform(data_last_60_days))\n",
    "print ((predicted_Stock_Price[0][0]))\n",
    "\n",
    "\n",
    "\n",
    "# for i in range (0,future_Time_Steps):\n",
    "#     data_append_next_Prediction.append(predicted_Stock_Price[0][0])\n",
    "    \n",
    "#     data_last_60_days = []\n",
    "#     for i in range (len(data_append_next_Prediction) - time_Step, len(data_append_next_Prediction)):\n",
    "#         data_last_60_days.append(data_append_next_Prediction[i])\n",
    "        \n",
    "#     data_append_next_Prediction = data_last_60_days\n",
    "#     data_last_60_days = np.array(data_last_60_days)\n",
    "#     data_last_60_days = np.reshape(data_last_60_days, (time_Step, 1))\n",
    "\n",
    "# #     data_last_60_days = sc.transform(data_last_60_days)\n",
    "\n",
    "# #     print ((data_last_60_days.shape))\n",
    "\n",
    "\n",
    "#     temp = []\n",
    "#     temp.append(data_last_60_days[0:60,0])\n",
    "\n",
    "#     data_last_60_days = np.array(temp)\n",
    "# #     print((data_last_60_days.shape))\n",
    "\n",
    "#     data_last_60_days = np.reshape(data_last_60_days, (1, time_Step, 1) )\n",
    "# #     print((data_last_60_days.shape))\n",
    "\n",
    "\n",
    "\n",
    "#     predicted_Stock_Price = regressor.predict(data_last_60_days)\n",
    "# #     predicted_Stock_Price = sc.inverse_transform(predicted_Stock_Price)\n",
    "\n",
    "# #     print ((predicted_Stock_Price[0][0]))\n",
    "\n",
    "\n",
    "# print ((data_append_next_Prediction) )\n"
   ]
  },
  {
   "cell_type": "markdown",
   "metadata": {},
   "source": [
    "# Visualising Result"
   ]
  },
  {
   "cell_type": "code",
   "execution_count": null,
   "metadata": {},
   "outputs": [],
   "source": [
    "plt.plot(real_stock_price , color = 'red', label = 'Real Infosys Stock Price')\n",
    "plt.plot(predicted_Stock_Price , color = 'blue', label = 'Predicted Infosys Stock Price')\n",
    "plt.title('Stock Price')\n",
    "plt.xlabel('Time In Days')\n",
    "plt.ylabel('Stock Price')\n",
    "plt.legend()\n",
    "plt.show()"
   ]
  },
  {
   "cell_type": "code",
   "execution_count": null,
   "metadata": {},
   "outputs": [],
   "source": []
  },
  {
   "cell_type": "code",
   "execution_count": null,
   "metadata": {},
   "outputs": [],
   "source": []
  },
  {
   "cell_type": "code",
   "execution_count": null,
   "metadata": {},
   "outputs": [],
   "source": []
  },
  {
   "cell_type": "code",
   "execution_count": null,
   "metadata": {},
   "outputs": [],
   "source": []
  },
  {
   "cell_type": "code",
   "execution_count": null,
   "metadata": {},
   "outputs": [],
   "source": []
  },
  {
   "cell_type": "code",
   "execution_count": null,
   "metadata": {},
   "outputs": [],
   "source": []
  },
  {
   "cell_type": "code",
   "execution_count": null,
   "metadata": {},
   "outputs": [],
   "source": []
  },
  {
   "cell_type": "code",
   "execution_count": null,
   "metadata": {},
   "outputs": [],
   "source": []
  }
 ],
 "metadata": {
  "kernelspec": {
   "display_name": "Python 3",
   "language": "python",
   "name": "python3"
  },
  "language_info": {
   "codemirror_mode": {
    "name": "ipython",
    "version": 3
   },
   "file_extension": ".py",
   "mimetype": "text/x-python",
   "name": "python",
   "nbconvert_exporter": "python",
   "pygments_lexer": "ipython3",
   "version": "3.6.5"
  }
 },
 "nbformat": 4,
 "nbformat_minor": 2
}
